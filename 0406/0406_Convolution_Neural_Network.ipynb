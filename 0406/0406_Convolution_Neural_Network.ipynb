{
  "nbformat": 4,
  "nbformat_minor": 0,
  "metadata": {
    "colab": {
      "name": "0406_Convolution_Neural_Network.ipynb",
      "provenance": [],
      "collapsed_sections": [],
      "authorship_tag": "ABX9TyPz831KgPtGL3ivWw2e6PcP",
      "include_colab_link": true
    },
    "kernelspec": {
      "name": "python3",
      "display_name": "Python 3"
    },
    "language_info": {
      "name": "python"
    }
  },
  "cells": [
    {
      "cell_type": "markdown",
      "metadata": {
        "id": "view-in-github",
        "colab_type": "text"
      },
      "source": [
        "<a href=\"https://colab.research.google.com/github/WoobinHwang/google_drive/blob/main/0406/0406_Convolution_Neural_Network.ipynb\" target=\"_parent\"><img src=\"https://colab.research.google.com/assets/colab-badge.svg\" alt=\"Open In Colab\"/></a>"
      ]
    },
    {
      "cell_type": "markdown",
      "source": [
        "# 합성곱 신경망 ( CNN )\n",
        "- 로지스틱 회귀(일반 ML 모형): 81%\n",
        "  - 1950년대\n",
        "\n",
        "- 인공신경망 (딥러닝 초기 모형): 87%\n",
        "  - 1940 ~ 80년대\n",
        "\n",
        "- 합성곱(Convolution, CNN): 이미지 관련\n",
        "  - 이미지의 특성을 잡아내는 알고리즘\n",
        "  - 코드보다는 용어에 초점\n",
        "  - 변천사: alexnet (2012) - > resnet - > efficientnet 기타 등등...\n",
        "  - 채널(색 성분), 이미지의 넓이, 크기[=높이] (파라미터 튜닝)\n",
        "  - Vision Transformer (논문): 이미지 분류 부분의 판도를 크게 바꾼 논문\n",
        "\n",
        "- 비디오\n",
        "  - 객체인식 (Object Detection) 위주\n",
        "  - Yolo (논문): 합성곱 신경망( CNN ) 기반으로 작성됨.\n",
        "\n",
        "- 순환 신경망(RNN) - LSTM (Long Short-Term Memory models)\n",
        "  - 구글 2017년 Transformer (논문) [자연어 처리 관련]\n"
      ],
      "metadata": {
        "id": "xK_FjNSoQ3Zq"
      }
    },
    {
      "cell_type": "markdown",
      "source": [
        "# 합성곱의 장점\n",
        "- 기존: 1차원 배열에서만 연산이 가능\n",
        "- 2차원 배열에도 연산을 할 수 있도록 구현돰\n",
        "  - 선형대수: 행렬을 이용하여 선형적인 문제를 해결. 행렬의 연산만을 다루는 것이 아니라, 공학적인 문제를 행렬의 형태로 정의하고 그 해답을 구하는 과정과 방법"
      ],
      "metadata": {
        "id": "Sz-fiJIcdFAe"
      }
    },
    {
      "cell_type": "code",
      "execution_count": 4,
      "metadata": {
        "colab": {
          "base_uri": "https://localhost:8080/"
        },
        "id": "UJQHNCIQQ2Ig",
        "outputId": "b479d415-7f81-4d55-ef90-abe456e1e6df"
      },
      "outputs": [
        {
          "output_type": "execute_result",
          "data": {
            "text/plain": [
              "<keras.layers.convolutional.Conv2D at 0x7facca8a1410>"
            ]
          },
          "metadata": {},
          "execution_count": 4
        }
      ],
      "source": [
        "from tensorflow import keras\n",
        "keras.layers.Conv2D(10, kernel_size=(3, 3), activation= 'relu')\n",
        "# 매개변수 명 filters를 적은 정식 명칭\n",
        "# keras.layers.Conv2D(filters= 10, kernel_size=(3, 3), activation= 'relu')\n",
        "# activation= 'relu' ==> 연산중 0으로 나오는 값들은 제외"
      ]
    },
    {
      "cell_type": "markdown",
      "source": [
        "## 패딩의 목적\n",
        "- 배열의 크기를 조정하더라도 이미지의 원 특성이 손실되는것을 방지\n",
        "- 패딩이 적용되지 않으면 각 모서리의 데이터는 한번씩밖에 읽히지 않음\n",
        "- 세임(same) 패딩: 입력 주위에 0이나 1로 패딩하는것\n",
        "- 밸리드(valid) 패딩: 패딩 없이 순수한 입력 배열에서만 합성곱을 진행. (특성 맵의 크기가 줄어듦)"
      ],
      "metadata": {
        "id": "nT0wxYv9hkJf"
      }
    },
    {
      "cell_type": "code",
      "source": [
        "# 세임패딩 적용\n",
        "keras.layers.Conv2D(10, kernel_size=(3, 3),\n",
        "                    activation= 'relu',\n",
        "                    padding= 'same') "
      ],
      "metadata": {
        "colab": {
          "base_uri": "https://localhost:8080/"
        },
        "id": "DyxeXKSBh1FJ",
        "outputId": "d8e6fb5f-ed45-4d40-ff4c-335b64f71d38"
      },
      "execution_count": 3,
      "outputs": [
        {
          "output_type": "execute_result",
          "data": {
            "text/plain": [
              "<keras.layers.convolutional.Conv2D at 0x7facc9f66290>"
            ]
          },
          "metadata": {},
          "execution_count": 3
        }
      ]
    },
    {
      "cell_type": "markdown",
      "source": [
        "## 풀링\n",
        "- 값을 추출\n",
        "- 최대풀링: 필터마다의 최대값을 도출함\n",
        "\n",
        "- if ex) 100 * 100이미지 --> 주요 이미지의 특성만 뽑은 후, 원이미지와 같게 만듬. 이때 크기는 줄어듬 (50 * 50)"
      ],
      "metadata": {
        "id": "j2bi6nZyi7qx"
      }
    },
    {
      "cell_type": "markdown",
      "source": [
        "# 합성곱 신경망의 전체 구조\n",
        "- 1단계: 이미지 데이터 입력\n",
        "- 2단계: 합성곱 층\n",
        "  - 1. kernel_size + padding\n",
        "  - 2. 황설화 함수 적용\n",
        "  - 3. 각각의 특성맵을 산출\n",
        "- 3단계: 풀링층\n",
        "  - 1. Max pooling: 최댓값 추출 (풀링 방법 중 하나)\n",
        "  - 2. 최종 특성맵\n",
        "- 이 과정 (1~3단계) 을 계속 반복하는것이 CNN 알고리즘\n",
        "\n",
        "- 4단계: 밀집층 (Fully Connected Layer)\n",
        "\n",
        "- 5단계: 분류 / 예측 값을 산출 (Softmax 활성화 함수)"
      ],
      "metadata": {
        "id": "sX1h0OW5ndIc"
      }
    },
    {
      "cell_type": "markdown",
      "source": [
        "# 마무리 정리\n",
        "- 키워드\n",
        "  - **합성곱**: 밀집층과 비슷하게 입력과 가중치를 곱하고 절편을 더하는 선형계산 (각 합성곱은 입력 전체가 아니라 일부만 사용)\n",
        "  - **채널**: 채널은 색 성분을 의미하며 흑백이미지는 1이며, 각 픽셀은 0 ~ 255사이의 값을 가짐. 이미지는 '높이', '너비', '채널' 이라는 3차원 텐서로 정의됨.\n",
        "  - **필터[=커널]**: 밀집층의 뉴련에 해당. 합성곱 신경망에서 부르는 명칭. (3 * 3) 과 (5 * 5)를 자주 사용\n",
        "  - **특성 맵**: 합성곱 층이나 풀링 층의 출력 '배열'을 의미\n",
        "  - **패딩**: 합성곱 층의 입력 주위에 추가한 0으로 채워진 픽셀\n",
        "  - **스트라이드**: 합성곱 층에서 필터가 입력(데이터) 위를 이동하는 간격. 일반적으로 1픽셀 사용\n",
        "  - **풀링**: 가중치가 없고 특성 맵의 가로 세로 크기를 줄이는 역할. 대표적으로 최대 풀링과 평균 풀링이 있음.\n",
        "  - **전이학습(Transfer Learning)**: 특정 분야에서 학습된 신경망의 일부 능력을 유사하거나 전혀 새로운 분야에서 사용되는 신경망의 학습에 이용하는 방법\n",
        "  - **파인튜닝(Fine tuning)**: 기존에 학습되어져 있는 모델을 기반으로 아키텍쳐를 새로운 목적에 맞게 변형하고 이미 학습된 모델의 가중치를 미세하게 조정하여 학습시키는 방법\n",
        "    - 캐글 경진대회에서 학습 / 실습 가능 (클래스 공부 필요)\n",
        "- **TensorFlow 패키지**\n",
        "  - **Keras.layers**: 케라스의 층, 합성곱 층\n",
        "    - **Conv2D**: 특별히 위를 이동하는 합성곱\n",
        "      - 매개변수 filters: 필터의 개수\n",
        "      - 매개변수 kernel_size: 필터(커널)의 크기\n",
        "      - 매개변수 activation: 활성화 함수.\n"
      ],
      "metadata": {
        "id": "5moLfykUV9JT"
      }
    }
  ]
}